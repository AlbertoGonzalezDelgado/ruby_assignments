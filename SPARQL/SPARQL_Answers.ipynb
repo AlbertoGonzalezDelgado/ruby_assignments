{
 "cells": [
  {
   "attachments": {},
   "cell_type": "markdown",
   "metadata": {},
   "source": [
    "\n",
    "UniProt SPARQL Endpoint:  http://sparql.uniprot.org/sparql  (note that you need to configure the endpoint to GET if you’re using YASGUI)"
   ]
  },
  {
   "cell_type": "code",
   "execution_count": 2,
   "metadata": {
    "vscode": {
     "languageId": "sql"
    }
   },
   "outputs": [
    {
     "data": {
      "text/html": [
       "<div class=\"krn-spql\"><div class=\"magic\">Endpoint set to: https://sparql.uniprot.org/sparql</div><div class=\"magic\">Request format: JSON</div></div>"
      ],
      "text/plain": [
       "Endpoint set to: https://sparql.uniprot.org/sparql\n",
       "Request format: JSON\n"
      ]
     },
     "metadata": {},
     "output_type": "display_data"
    }
   ],
   "source": [
    "%endpoint https://sparql.uniprot.org/sparql\n",
    "%format JSON"
   ]
  },
  {
   "attachments": {},
   "cell_type": "markdown",
   "metadata": {},
   "source": [
    "Q1: 1 POINT  How many protein records are in UniProt? "
   ]
  },
  {
   "cell_type": "code",
   "execution_count": 6,
   "metadata": {
    "vscode": {
     "languageId": "sql"
    }
   },
   "outputs": [
    {
     "data": {
      "text/html": [
       "<div class=\"krn-spql\"><table><tr class=hdr><th>Total</th></tr><tr class=odd><td class=val>378979161</td></tr></table><div class=\"tinfo\">Total: 1, Shown: 1</div></div>"
      ]
     },
     "metadata": {},
     "output_type": "display_data"
    }
   ],
   "source": [
    "PREFIX core:<http://purl.uniprot.org/core/> \n",
    "\n",
    "SELECT (COUNT(?protein) AS ?Total) \n",
    "WHERE{ \n",
    "        ?protein a core:Protein .\n",
    "}"
   ]
  },
  {
   "attachments": {},
   "cell_type": "markdown",
   "metadata": {},
   "source": [
    "Q2: 1 POINT How many Arabidopsis thaliana protein records are in UniProt? "
   ]
  },
  {
   "cell_type": "code",
   "execution_count": 8,
   "metadata": {
    "vscode": {
     "languageId": "sql"
    }
   },
   "outputs": [
    {
     "data": {
      "text/html": [
       "<div class=\"krn-spql\"><table><tr class=hdr><th>Total</th></tr><tr class=odd><td class=val>136447</td></tr></table><div class=\"tinfo\">Total: 1, Shown: 1</div></div>"
      ]
     },
     "metadata": {},
     "output_type": "display_data"
    }
   ],
   "source": [
    "PREFIX core:<http://purl.uniprot.org/core/> \n",
    "PREFIX taxon:<http://purl.uniprot.org/taxonomy/>\n",
    "\n",
    "SELECT (COUNT(DISTINCT ?protein) AS ?Total)\n",
    "WHERE{ \n",
    "        ?protein a core:Protein .         \n",
    "        ?protein core:organism taxon:3702 .\n",
    "}\n"
   ]
  },
  {
   "attachments": {},
   "cell_type": "markdown",
   "metadata": {},
   "source": [
    "Q3: 1 POINT retrieve pictures of Arabidopsis thaliana from UniProt? "
   ]
  },
  {
   "cell_type": "code",
   "execution_count": 10,
   "metadata": {
    "vscode": {
     "languageId": "python"
    }
   },
   "outputs": [
    {
     "data": {
      "text/html": [
       "<div class=\"krn-spql\"><table><tr class=hdr><th>Name</th>\n",
       "<th>image</th></tr><tr class=odd><td class=val>Arabidopsis thaliana</td>\n",
       "<td class=val><a href=\"https://upload.wikimedia.org/wikipedia/commons/3/39/Arabidopsis.jpg\" target=\"_other\">https://upload.wikimedia.org/wikipedia/commons/3/39/Arabidopsis.jpg</a></td></tr><tr class=even><td class=val>Arabidopsis thaliana</td>\n",
       "<td class=val><a href=\"https://upload.wikimedia.org/wikipedia/commons/thumb/6/60/Arabidopsis_thaliana_inflorescencias.jpg/800px-Arabidopsis_thaliana_inflorescencias.jpg\" target=\"_other\">https://upload.wikimedia.org/wikipedia/commons/thumb/6/60/Arabidopsis_thaliana_inflorescencias.jpg/800px-Arabidopsis_thaliana_inflorescencias.jpg</a></td></tr></table><div class=\"tinfo\">Total: 2, Shown: 2</div></div>"
      ]
     },
     "metadata": {},
     "output_type": "display_data"
    }
   ],
   "source": [
    "\n",
    "PREFIX up:<http://purl.uniprot.org/core/> \n",
    "PREFIX foaf:<http://xmlns.com/foaf/0.1/>\n",
    "\n",
    "SELECT ?Name ?image\n",
    "WHERE {\n",
    "       ?taxon    foaf:depiction  ?image .\n",
    "       ?taxon    up:scientificName   ?Name .\n",
    "       FILTER(CONTAINS(?Name, \"Arabidopsis thaliana\"))\n",
    "}"
   ]
  },
  {
   "attachments": {},
   "cell_type": "markdown",
   "metadata": {},
   "source": [
    "Q4: 1 POINT:  What is the description of the enzyme activity of UniProt Protein Q9SZZ8"
   ]
  },
  {
   "cell_type": "code",
   "execution_count": 11,
   "metadata": {
    "vscode": {
     "languageId": "python"
    }
   },
   "outputs": [
    {
     "data": {
      "text/html": [
       "<div class=\"krn-spql\"><table><tr class=hdr><th>description</th></tr><tr class=odd><td class=val>all-trans-beta-carotene + 4 H(+) + 2 O2 + 4 reduced [2Fe-2S]-[ferredoxin] = all-trans-zeaxanthin + 2 H2O + 4 oxidized [2Fe-2S]-[ferredoxin].</td></tr></table><div class=\"tinfo\">Total: 1, Shown: 1</div></div>"
      ]
     },
     "metadata": {},
     "output_type": "display_data"
    }
   ],
   "source": [
    "PREFIX core:<http://purl.uniprot.org/core/> \n",
    "PREFIX uniprot:<http://purl.uniprot.org/uniprot/> \n",
    "\n",
    "SELECT ?description\n",
    "WHERE {\n",
    "  uniprot:Q9SZZ8 a core:Protein ;          \n",
    "                   core:enzyme ?enzyme .\n",
    "  ?enzyme core:activity ?activity .        \n",
    "  ?activity rdfs:label ?description\n",
    "}"
   ]
  },
  {
   "attachments": {},
   "cell_type": "markdown",
   "metadata": {},
   "source": [
    "Q5: 1 POINT:  Retrieve the proteins ids, and date of submission, for 5 proteins that have been added to UniProt this year   (HINT Google for “SPARQL FILTER by date”)\n",
    "\n",
    "This explination helped: https://stackoverflow.com/questions/24051435/filter-by-date-range-in-sparql"
   ]
  },
  {
   "cell_type": "code",
   "execution_count": 12,
   "metadata": {
    "vscode": {
     "languageId": "python"
    }
   },
   "outputs": [
    {
     "data": {
      "text/html": [
       "<div class=\"krn-spql\"><table><tr class=hdr><th>id</th>\n",
       "<th>date</th></tr></table><div class=\"tinfo\">Total: 0, Shown: 0</div></div>"
      ]
     },
     "metadata": {},
     "output_type": "display_data"
    }
   ],
   "source": [
    "PREFIX core:<http://purl.uniprot.org/core/> \n",
    "\n",
    "SELECT ?id ?date\n",
    "WHERE{\n",
    "  ?protein a core:Protein .\n",
    "  ?protein core:mnemonic ?id .\n",
    "  ?protein core:created ?date .\n",
    "  FILTER (?date > \"2023-01-01\"^^xsd:dateTime)\n",
    "} LIMIT 5\n"
   ]
  },
  {
   "attachments": {},
   "cell_type": "markdown",
   "metadata": {},
   "source": [
    "Zero results, although... I think this assignment was originally due in 2022 so:"
   ]
  },
  {
   "cell_type": "code",
   "execution_count": 13,
   "metadata": {
    "vscode": {
     "languageId": "python"
    }
   },
   "outputs": [
    {
     "data": {
      "text/html": [
       "<div class=\"krn-spql\"><table><tr class=hdr><th>id</th>\n",
       "<th>date</th></tr><tr class=odd><td class=val>A0A8E0N8L5_ECOLX</td>\n",
       "<td class=val>2022-01-19</td></tr><tr class=even><td class=val>A0A8F9CQZ7_ECOLX</td>\n",
       "<td class=val>2022-01-19</td></tr><tr class=odd><td class=val>A0A8F9ICG9_ECOLX</td>\n",
       "<td class=val>2022-01-19</td></tr><tr class=even><td class=val>A0A8F8WH98_PSEAI</td>\n",
       "<td class=val>2022-01-19</td></tr><tr class=odd><td class=val>A0A8F9NZK3_PSEAI</td>\n",
       "<td class=val>2022-01-19</td></tr></table><div class=\"tinfo\">Total: 5, Shown: 5</div></div>"
      ]
     },
     "metadata": {},
     "output_type": "display_data"
    }
   ],
   "source": [
    "PREFIX core:<http://purl.uniprot.org/core/> \n",
    "\n",
    "SELECT ?id ?date\n",
    "WHERE{\n",
    "  ?protein a core:Protein .\n",
    "  ?protein core:mnemonic ?id .\n",
    "  ?protein core:created ?date .\n",
    "  FILTER (?date > \"2022-01-01\"^^xsd:dateTime)\n",
    "} LIMIT 5"
   ]
  },
  {
   "attachments": {},
   "cell_type": "markdown",
   "metadata": {},
   "source": [
    "Q6: 1 POINT How  many species are in the UniProt taxonomy?"
   ]
  },
  {
   "cell_type": "code",
   "execution_count": 14,
   "metadata": {
    "vscode": {
     "languageId": "python"
    }
   },
   "outputs": [
    {
     "data": {
      "text/html": [
       "<div class=\"krn-spql\"><table><tr class=hdr><th>Total</th></tr><tr class=odd><td class=val>1995728</td></tr></table><div class=\"tinfo\">Total: 1, Shown: 1</div></div>"
      ]
     },
     "metadata": {},
     "output_type": "display_data"
    }
   ],
   "source": [
    "PREFIX core:<http://purl.uniprot.org/core/> \n",
    "\n",
    "SELECT (COUNT(DISTINCT ?taxon) AS ?Total)\n",
    "WHERE{\n",
    "  ?taxon a core:Taxon .\n",
    "  ?taxon core:rank core:Species\n",
    "}"
   ]
  },
  {
   "attachments": {},
   "cell_type": "markdown",
   "metadata": {},
   "source": [
    "Q7: 2 POINT  How many species have at least one protein record? (this might take a long time to execute, so do this one last!)"
   ]
  },
  {
   "cell_type": "code",
   "execution_count": null,
   "metadata": {
    "vscode": {
     "languageId": "python"
    }
   },
   "outputs": [],
   "source": [
    "PREFIX core: <http://purl.uniprot.org/core/>\n",
    "\n",
    "SELECT (COUNT(DISTINCT ?species) AS ?Total)\n",
    "WHERE \n",
    "{\n",
    "    ?protein a core:Protein .           # Select all protein records from uniprot\n",
    "    ?protein core:organism ?species .   # Select all the species present on those proteins\n",
    "    ?species a core:Taxon .             # (species are a taxon)\n",
    "    ?species core:rank core:Species .   # a taxon with level = species\n",
    "}\n"
   ]
  },
  {
   "attachments": {},
   "cell_type": "markdown",
   "metadata": {},
   "source": [
    "Q8: 3 points:  find the AGI codes and gene names for all Arabidopsis thaliana  proteins that have a protein function annotation description that mentions “pattern formation”"
   ]
  },
  {
   "cell_type": "code",
   "execution_count": 15,
   "metadata": {
    "vscode": {
     "languageId": "python"
    }
   },
   "outputs": [
    {
     "data": {
      "text/html": [
       "<div class=\"krn-spql\"><table><tr class=hdr><th>agi_code</th>\n",
       "<th>gene_name</th></tr><tr class=odd><td class=val>At1g13980</td>\n",
       "<td class=val>GN</td></tr><tr class=even><td class=val>At3g02130</td>\n",
       "<td class=val>RPK2</td></tr><tr class=odd><td class=val>At1g69270</td>\n",
       "<td class=val>RPK1</td></tr><tr class=even><td class=val>At5g37800</td>\n",
       "<td class=val>RSL1</td></tr><tr class=odd><td class=val>At1g26830</td>\n",
       "<td class=val>CUL3A</td></tr><tr class=even><td class=val>At1g66470</td>\n",
       "<td class=val>RHD6</td></tr><tr class=odd><td class=val>At3g09090</td>\n",
       "<td class=val>DEX1</td></tr><tr class=even><td class=val>At5g55250</td>\n",
       "<td class=val>IAMT1</td></tr><tr class=odd><td class=val>At1g63700</td>\n",
       "<td class=val>YDA</td></tr><tr class=even><td class=val>At4g21750</td>\n",
       "<td class=val>ATML1</td></tr><tr class=odd><td class=val>At1g69670</td>\n",
       "<td class=val>CUL3B</td></tr><tr class=even><td class=val>At5g02010</td>\n",
       "<td class=val>ROPGEF7</td></tr><tr class=odd><td class=val>At4g37650</td>\n",
       "<td class=val>SHR</td></tr><tr class=even><td class=val>At3g54220</td>\n",
       "<td class=val>SCR</td></tr><tr class=odd><td class=val>At2g46710</td>\n",
       "<td class=val>ROPGAP3</td></tr><tr class=even><td class=val>At2g42580</td>\n",
       "<td class=val>TTL3</td></tr><tr class=odd><td class=val>At5g40260</td>\n",
       "<td class=val>SWEET8</td></tr></table><div class=\"tinfo\">Total: 17, Shown: 17</div></div>"
      ]
     },
     "metadata": {},
     "output_type": "display_data"
    }
   ],
   "source": [
    "PREFIX skos:<http://www.w3.org/2004/02/skos/core#> \n",
    "PREFIX core:<http://purl.uniprot.org/core/> \n",
    "PREFIX taxon:<http://purl.uniprot.org/taxonomy/> \n",
    "\n",
    "SELECT ?agi_code ?gene_name\n",
    "WHERE{ \n",
    "    \n",
    "    ?protein core:organism taxon:3702 .     #From A. Thaliana\n",
    "    ?protein a core:Protein .               # Is a protein\n",
    "    ?protein core:annotation ?annotation .  \n",
    "    ?annotation a core:Function_Annotation . #Has an annotation\n",
    "    ?annotation rdfs:comment ?description . # has a description\n",
    "    ?protein core:encodedBy ?gene .         #Fine gene inciding it\n",
    "    ?gene core:locusName ?agi_code .        #Get its AGI\n",
    "    ?gene skos:prefLabel ?gene_name .       #Get its name\n",
    "\n",
    "    FILTER CONTAINS(?description, \"pattern formation\")\n",
    "    \n",
    "}"
   ]
  },
  {
   "attachments": {},
   "cell_type": "markdown",
   "metadata": {},
   "source": [
    "Q9: 4 POINTS:  what is the MetaNetX Reaction identifier (starts with “mnxr”) for the UniProt Protein uniprotkb:Q18A79"
   ]
  },
  {
   "cell_type": "code",
   "execution_count": 16,
   "metadata": {
    "vscode": {
     "languageId": "python"
    }
   },
   "outputs": [
    {
     "data": {
      "text/html": [
       "<div class=\"krn-spql\"><div class=\"magic\">Endpoint set to: https://rdf.metanetx.org/sparql</div></div>"
      ],
      "text/plain": [
       "Endpoint set to: https://rdf.metanetx.org/sparql\n"
      ]
     },
     "metadata": {},
     "output_type": "display_data"
    }
   ],
   "source": [
    "%endpoint https://rdf.metanetx.org/sparql "
   ]
  },
  {
   "cell_type": "code",
   "execution_count": 18,
   "metadata": {
    "vscode": {
     "languageId": "python"
    }
   },
   "outputs": [
    {
     "data": {
      "text/html": [
       "<div class=\"krn-spql\"><table><tr class=hdr><th>pept</th>\n",
       "<th>reaction_identifier</th></tr><tr class=odd><td class=val><a href=\"https://rdf.metanetx.org/pept/GLGA_CLOD6\" target=\"_other\">https://rdf.metanetx.org/pept/GLGA_CLOD6</a></td>\n",
       "<td class=val>mnxr165934</td></tr><tr class=even><td class=val><a href=\"https://rdf.metanetx.org/pept/GLGA_CLOD6\" target=\"_other\">https://rdf.metanetx.org/pept/GLGA_CLOD6</a></td>\n",
       "<td class=val>mnxr145046c3</td></tr></table><div class=\"tinfo\">Total: 2, Shown: 2</div></div>"
      ]
     },
     "metadata": {},
     "output_type": "display_data"
    }
   ],
   "source": [
    "\n",
    "PREFIX meta: <https://rdf.metanetx.org/schema/>\n",
    "PREFIX uniprot: <http://purl.uniprot.org/uniprot/>\n",
    "\n",
    "SELECT DISTINCT ?pept ?reaction_identifier\n",
    "WHERE{\n",
    "    ?pept meta:peptXref uniprot:Q18A79 . \n",
    "    ?catalyzes meta:pept ?pept .\n",
    "    ?gpr meta:cata ?catalyzes ;\n",
    "         meta:reac ?reaction .\n",
    "    ?reaction rdfs:label ?reaction_identifier . \n",
    "    FILTER CONTAINS(?reaction_identifier, 'mnxr')\n",
    "}"
   ]
  },
  {
   "cell_type": "code",
   "execution_count": null,
   "metadata": {
    "vscode": {
     "languageId": "python"
    }
   },
   "outputs": [],
   "source": []
  }
 ],
 "metadata": {
  "kernelspec": {
   "display_name": "SPARQL",
   "language": "sparql",
   "name": "sparql"
  },
  "language_info": {
   "codemirror_mode": {
    "name": "sparql"
   },
   "mimetype": "application/sparql-query",
   "name": "sparql",
   "pygments_lexer": "sparql-nb"
  },
  "orig_nbformat": 4,
  "vscode": {
   "interpreter": {
    "hash": "5d51a6b9790d65a7046aa70b1e6a6991267908617e1acd23dbf4e9b7789d214d"
   }
  }
 },
 "nbformat": 4,
 "nbformat_minor": 2
}
